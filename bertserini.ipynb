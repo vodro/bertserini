{
 "cells": [
  {
   "cell_type": "code",
   "execution_count": null,
   "metadata": {},
   "outputs": [],
   "source": [
    "from charset_normalizer import md__mypyc"
   ]
  },
  {
   "cell_type": "code",
   "execution_count": null,
   "metadata": {},
   "outputs": [],
   "source": [
    "from pyserini.search.lucene import LuceneSearcher"
   ]
  },
  {
   "cell_type": "code",
   "execution_count": 5,
   "metadata": {},
   "outputs": [],
   "source": [
    "def get_searcher():\n",
    "    try:\n",
    "        return LuceneSearcher('indexes/lucene-index.enwiki-20180701-paragraphs')\n",
    "    except Exception as e:\n",
    "        print('Index not found, downloading prebuilt index...')\n",
    "        return LuceneSearcher.from_prebuilt_index('enwiki-paragraphs')\n",
    "    "
   ]
  },
  {
   "cell_type": "code",
   "execution_count": null,
   "metadata": {},
   "outputs": [],
   "source": [
    "# def get_squad_data():\n",
    "#     with open('dataset/squad/train-v2.0.json'):\n",
    "#         train_data = json.load(f)\n",
    "        \n",
    "    "
   ]
  },
  {
   "cell_type": "code",
   "execution_count": 11,
   "metadata": {},
   "outputs": [
    {
     "name": "stdout",
     "output_type": "stream",
     "text": [
      " 1 2150841_78 8.55448 Lionel Messi . Messi and Roccuzzo have three sons: Thiago (born 2012), Mateo (born 2015) and Ciro (born 2018). To celebrate his partner's first pregnancy, Messi placed the ball under his shirt after scoring in Argentina's 4–0 win against Ecuador on 2 June 2012, before confirming the pregnancy in an interview two weeks later. Thiago was born in Barcelona on 2 November 2012, with Messi attending the birth after being given permission by Barcelona to miss training. He announced his son's arrival on his Facebook page, writing, \"Today I am the happiest man in the world, my son was born and thanks to God for this gift!\" Thiago's name and handprints are tattooed on his left calf. In April 2015, Messi confirmed on Facebook that they were expecting another child. He missed training ahead of a match against Atlético Madrid to attend the birth of his second son, Mateo, on 11 September 2015 in Barcelona. On 30 June 2017, he married Roccuzzo at a luxury hotel named Hotel City Center in Rosario with about 260 guests attending his wedding. On 15 October 2017, his wife announced they were expecting their third child in an Instagram post, with the words \"Family of 5\". On 10 March 2018, Messi skipped the match against Málaga after Ciro was born.\n",
      "=================================================\n",
      "\n",
      "\n",
      " 2 30448071_40 8.07371 Mauro Icardi . In October 2016, rumours started to speculate in Argentina that Lionel Messi was behind Icardi's exclusion from the national team due to his friendship with Maxi López, his wife's former partner. The national team coach Edgardo Bauza stated that Icardi's off-field antics have nothing to do with him not being selected for Argentina and he would receive a call-up soon, adding that Messi does not \"dictate\" the team. However, he was omitted again for the 2018 FIFA World Cup qualification matches against Brazil and Colombia in November.\n",
      "=================================================\n",
      "\n",
      "\n",
      " 3 34425050_3 7.99620 Wife Swap (U.S. TV series) . The program will usually deliberately swap wives with dramatically different lifestyles, such as a messy wife swapping with a fastidiously neat one, or a wife who only cooks vegan swapped with a non vegan wife, documenting the cultural and social differences that the two families discover with the new family member. A spin-off series featuring celebrities debuted January 2, 2012 under the title \"Celebrity Wife Swap\" and lasted for 4 seasons. On March 8, 2018, it was announced that CMT had picked up the series for a 10 episode reboot under its original format.\n",
      "=================================================\n",
      "\n",
      "\n",
      " 4 57790803_11 7.94828 Messi (cougar) . Despite mostly favorable attention on social media, some have criticized the Dmitrievs for keeping Messi under domestic circumstances. Opposers of the domestication of wild animals fear that Messi's wild needs will not be met, and that once Messi reaches sexual maturity he may become more prone to dangerous behavior. They advise the Dmitrievs to send Messi to a wildlife reserve or sanctuary. The Dmitrievs, however, believe that Messi would not be able to survive in a wild setting. Also, while the couple discourages big cat domestication in general, they believe that Messi is a special case due to his calm personality and his health condition.\n",
      "=================================================\n",
      "\n",
      "\n",
      " 5 57790803_5 7.94828 Messi (cougar) . In 2016, Alexandr and Mariya Dmitriev visited the Penza zoo and met Messi for the first time. The couple experienced \"love at first sight,\" and noticed Messi's exceptionally gentle personality. The Dmitrievs considered adopting Messi as a pet, and deliberated for a few days, discussing together the morality and logistics of keeping this animal. The couple made the final decision to adopt Messi from the petting zoo. Alexandr later told MailOnline that he had always dreamed of owning a big cat, particularly a lynx, which was a motivation for adopting Messi. Messi was sickly at the time of his adoption, so the Dmitrievs worked to nurse him to decent health.\n",
      "=================================================\n",
      "\n",
      "\n",
      " 6 12627364_55 7.88044 List of Mr. Men . Mr. Messy is the 8th book in the \"Mr. Men\" series by Roger Hargreaves. Mr. Messy is pink and really messy, but has a really nice smile. Mr. Messy lives in a messy house until Mr. Neat and Mr. Tidy come to clean his house and give him a bath (his first ever, as the bathroom had previously been the messiest of the house). He becomes neat and thinks he has to change his name. Mr. Messy then becomes clean.\n",
      "=================================================\n",
      "\n",
      "\n",
      " 7 2150841_65 7.82387 Lionel Messi . Following on from their poor qualification campaign, salvaged by Messi, expectations were not high going into the 2018 World Cup, with the team, without an injured Messi, losing 6–1 to Spain in March 2018. Pre tournament Messi admitted, “Right now we're not among the contenders to win the World Cup.\" Prior to Argentina's opener, there was speculation in the media over whether this would be Messi's final World Cup. In the team's opening group match against Iceland on 16 June, Messi missed a potential match-winning penalty in an eventual 1–1 draw. In Argentina’s second game of the 2018 World Cup on 21 June, the team lost 3–0 to Croatia. Post match the Argentina coach Jorge Sampaoli spoke of the lack of quality in the team surrounding Messi, “the reality of the Argentina squad clouds his [Messi’s] brilliance\". Messi had just 49 touches of the ball and only two inside the Croatia penalty area, with the coach being asked, “Why can't you get your players to pass the ball to Lionel Messi?\" Sampaoli responded by touching on the lack of supply to Messi, “we quite simply couldn't pass to him to help him generate the situations he is used to. We worked to give him the ball but the opponent also worked hard to prevent him from getting the ball. We lost that battle.” Croatia midfielder Luka Modrić also stated post match, “Messi is an incredible player but he can't do everything alone.” In Argentina's final group match against Nigeria at the Krestovsky Stadium, Saint Petersburg on 26 June, Messi scored the opening goal in an eventual 2–1 victory which saw Argentina progress to the second round as group runners-up behind Croatia. Receiving Ever Banega’s long pass upfield over the defence Messi controlled the ball on the run with two touches before striking it across goal into the net with his right foot. With this goal, Messi became only the third Argentine after Diego Maradona and Gabriel Batistuta to score in three World Cups; he also became the first player to score in the World Cup in his teens, twenties, and his thirties.\n",
      "=================================================\n",
      "\n",
      "\n",
      " 8 24473431_2 7.71041 Messy Situationz . Messy Situationz is the debut album by American rapper Messy Marv.\n",
      "=================================================\n",
      "\n",
      "\n",
      " 9 57790803_6 7.68919 Messi (cougar) . Messi lives with Alexandr and Mariya Dmitriev in a small studio apartment in Penza. The hallway of the apartment was modified and was designated as Messi's play area. Toys include empty bottles and balls. The couple also owns a sphynx cat named Kira, but the cat does not tend to take kindly to Messi's company, so the two are kept separated. Messi has a gentle and calm personality, and has never before attacked a person. The Dmitrievs sometimes refer to him as \"kitten.\"\n",
      "=================================================\n",
      "\n",
      "\n",
      "10 57790803_3 7.64101 Messi (cougar) . Messi was born in late 2015 in a zoo at Saransk, Mordovia, Russia. He was one of three newborn cougars at the zoo to be named after professional football players for FC Barcelona; Messi was named after Lionel Messi, and the other two were named Suarez and Neymar. The cubs were given these names because Saransk was one of several cities proposed to host the 2018 FIFA World Cup in Russia. Messi was later sold to a petting zoo in Penza when he was three months old.\n",
      "=================================================\n",
      "\n",
      "\n"
     ]
    }
   ],
   "source": [
    "searcher = get_searcher()\n",
    "# searcher = \n",
    "hits = searcher.search('wife of messi?')\n",
    "\n",
    "for i in range(0, 10):\n",
    "    print(f'{i+1:2} {hits[i].docid:7} {hits[i].score:.5f}' , hits[i].raw)\n",
    "    print('=================================================\\n\\n')"
   ]
  },
  {
   "cell_type": "code",
   "execution_count": null,
   "metadata": {},
   "outputs": [],
   "source": []
  }
 ],
 "metadata": {
  "kernelspec": {
   "display_name": "bertserini",
   "language": "python",
   "name": "python3"
  },
  "language_info": {
   "codemirror_mode": {
    "name": "ipython",
    "version": 3
   },
   "file_extension": ".py",
   "mimetype": "text/x-python",
   "name": "python",
   "nbconvert_exporter": "python",
   "pygments_lexer": "ipython3",
   "version": "3.10.9"
  },
  "orig_nbformat": 4,
  "vscode": {
   "interpreter": {
    "hash": "d72ee96be7c3828b863ea76b7848a93af307e7f7daa073b2d0d439965b52bdbd"
   }
  }
 },
 "nbformat": 4,
 "nbformat_minor": 2
}
